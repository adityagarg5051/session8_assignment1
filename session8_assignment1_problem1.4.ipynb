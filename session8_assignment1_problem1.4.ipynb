{
 "cells": [
  {
   "cell_type": "code",
   "execution_count": 19,
   "metadata": {},
   "outputs": [
    {
     "name": "stdout",
     "output_type": "stream",
     "text": [
      "    random_number\n",
      "01     642.181818\n",
      "02     608.000000\n",
      "03     545.181818\n",
      "04     506.727273\n",
      "05     591.809524\n",
      "06     519.090909\n",
      "07     453.826087\n",
      "08     548.238095\n",
      "09     592.636364\n",
      "10     466.545455\n",
      "11     617.761905\n",
      "12     494.347826\n"
     ]
    }
   ],
   "source": [
    "# import statements\n",
    "import numpy as np\n",
    "import datetime as dt\n",
    "import pandas as pd\n",
    "from numpy.random import randn as rn\n",
    "\n",
    "# initialization\n",
    "def get_no_of_days_in_the_year(year):\n",
    "    start_date = dt.datetime(year,1,1).date()\n",
    "    end_date = dt.datetime(year,12,31).date()\n",
    "    no_of_days = (end_date - start_date).days + 1\n",
    "    return no_of_days\n",
    "\n",
    "def generate_data_frame():\n",
    "    df = pd.DataFrame() \n",
    "    try:\n",
    "        df = pd.read_pickle(\"C:/Users/suruchi/Downloads/Acadgild/Assignment/8/pickle.pickle\")\n",
    "    except FileNotFoundError:\n",
    "        pass\n",
    "    if not df.empty:\n",
    "        return df\n",
    "    # build date collection\n",
    "    start_date = dt.datetime(2015,1,1).date()\n",
    "    dates = [(start_date + dt.timedelta(days = i)).isoformat() for i in range(get_no_of_days_in_the_year(2015)) if not (start_date + dt.timedelta(days = i)).isoweekday() in [6,7]]\n",
    "\n",
    "    # build random numbers dataframe\n",
    "    df_random = pd.DataFrame(np.random.randint(100,1000, (len(dates), 1)), columns = [\"random_number\"])\n",
    "\n",
    "    # create data frame\n",
    "    df = pd.DataFrame({\"Date\": dates})\n",
    "\n",
    "    # join the series and data frame to build the desired output\n",
    "    df = df.join(df_random)\n",
    "    df.set_index(\"Date\", inplace=True)\n",
    "    df.to_pickle(\"C:/Users/suruchi/Downloads/Acadgild/Assignment/8/pickle.pickle\")\n",
    "    return df\n",
    "\n",
    "df = generate_data_frame()\n",
    "df_result = df.groupby(by= lambda x: x.split('-')[1]).agg({'random_number': lambda x: x.mean()})\n",
    "print(df_result)"
   ]
  },
  {
   "cell_type": "code",
   "execution_count": null,
   "metadata": {},
   "outputs": [],
   "source": []
  }
 ],
 "metadata": {
  "kernelspec": {
   "display_name": "Python 3",
   "language": "python",
   "name": "python3"
  },
  "language_info": {
   "codemirror_mode": {
    "name": "ipython",
    "version": 3
   },
   "file_extension": ".py",
   "mimetype": "text/x-python",
   "name": "python",
   "nbconvert_exporter": "python",
   "pygments_lexer": "ipython3",
   "version": "3.6.5"
  }
 },
 "nbformat": 4,
 "nbformat_minor": 2
}
